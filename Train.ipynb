{
 "cells": [
  {
   "cell_type": "code",
   "execution_count": 1,
   "id": "2c1a6efa",
   "metadata": {},
   "outputs": [],
   "source": [
    "from TripletLossFunc import TripletLossFunc\n",
    "import random\n",
    "\n",
    "import torch\n",
    "import torch.nn.functional as F\n",
    "\n",
    "import torchvision.models as models\n",
    "\n",
    "from Utils import *\n",
    "from Define import *\n",
    "from NUS_WIDE_Helper import *\n",
    "\n",
    "from jupyterplot import ProgressPlot\n",
    "from tqdm.notebook import tqdm\n",
    "from TenNetImage import *\n",
    "from TenNetTag import *\n",
    "from TagDecoder import *\n",
    "import TenNet"
   ]
  },
  {
   "cell_type": "code",
   "execution_count": 2,
   "id": "cfad4330",
   "metadata": {},
   "outputs": [],
   "source": [
    "#NUS_WIDE\n",
    "train_data = NUS_WIDE_Helper(DataSetType.Train_81,)\n",
    "valid_data = NUS_WIDE_Helper(DataSetType.Test_81,  Number_Of_Images_Valid)\n",
    "#test_data = NUS_WIDE_Helper(DataSetType.Test_81)\n",
    "\n",
    "batch_size = BATCH_SIZE\n",
    "train_loader = torch.utils.data.DataLoader(train_data, shuffle=True, batch_size=batch_size)\n",
    "valid_loader = torch.utils.data.DataLoader(valid_data, shuffle=True, batch_size=batch_size)\n",
    "#test_loader = torch.utils.data.DataLoader(test_data, shuffle=True, batch_size=batch_size)"
   ]
  },
  {
   "cell_type": "code",
   "execution_count": null,
   "id": "f2754758",
   "metadata": {},
   "outputs": [],
   "source": []
  },
  {
   "cell_type": "code",
   "execution_count": 3,
   "id": "42ab8958",
   "metadata": {},
   "outputs": [],
   "source": [
    "#image_model = models.vgg16(pretrained=True).to(device)\n",
    "image_model = TenNet_Image().to(device)\n",
    "tag_model = TenNet_Tag(train_data.get_tag_list()).to(device)\n",
    "\n",
    "optim = torch.optim.Adam([{'params' : image_model.parameters()}, {'params' : tag_model.parameters()}], lr=0.001)\n",
    "triplet_loss = TripletLossFunc(Margin_Distance)"
   ]
  },
  {
   "cell_type": "code",
   "execution_count": null,
   "id": "e267b4c9",
   "metadata": {},
   "outputs": [],
   "source": []
  },
  {
   "cell_type": "code",
   "execution_count": 4,
   "id": "caf7ca16",
   "metadata": {},
   "outputs": [],
   "source": [
    "# debug list\n",
    "max_loss = Margin_Distance * 2\n",
    "n_epochs = N_Epochs\n",
    "Lambda = 0.3\n",
    "min_valid_loss = -1"
   ]
  },
  {
   "cell_type": "code",
   "execution_count": 2,
   "id": "86f2ba40",
   "metadata": {
    "scrolled": true
   },
   "outputs": [
    {
     "ename": "NameError",
     "evalue": "name 'n_epochs' is not defined",
     "output_type": "error",
     "traceback": [
      "\u001b[1;31m---------------------------------------------------------------------------\u001b[0m",
      "\u001b[1;31mNameError\u001b[0m                                 Traceback (most recent call last)",
      "\u001b[1;32m~\\AppData\\Local\\Temp/ipykernel_10728/2178272731.py\u001b[0m in \u001b[0;36m<module>\u001b[1;34m\u001b[0m\n\u001b[0;32m      1\u001b[0m pp = ProgressPlot(plot_names=[\"loss\", \"train distance\"],\n\u001b[0;32m      2\u001b[0m                   \u001b[0mline_names\u001b[0m\u001b[1;33m=\u001b[0m\u001b[1;33m[\u001b[0m\u001b[1;34m\"train/pos_IT\"\u001b[0m\u001b[1;33m,\u001b[0m \u001b[1;34m\"valid/pos_II\"\u001b[0m\u001b[1;33m,\u001b[0m \u001b[1;34m\"0/neg_IT\"\u001b[0m\u001b[1;33m,\u001b[0m \u001b[1;34m\"0/neg_II\"\u001b[0m\u001b[1;33m]\u001b[0m\u001b[1;33m,\u001b[0m\u001b[1;33m\u001b[0m\u001b[1;33m\u001b[0m\u001b[0m\n\u001b[1;32m----> 3\u001b[1;33m                   \u001b[0mx_lim\u001b[0m\u001b[1;33m=\u001b[0m\u001b[1;33m[\u001b[0m\u001b[1;36m0\u001b[0m\u001b[1;33m,\u001b[0m \u001b[0mn_epochs\u001b[0m\u001b[1;33m-\u001b[0m\u001b[1;36m1\u001b[0m\u001b[1;33m]\u001b[0m\u001b[1;33m,\u001b[0m\u001b[1;33m\u001b[0m\u001b[1;33m\u001b[0m\u001b[0m\n\u001b[0m\u001b[0;32m      4\u001b[0m                   y_lim=[0, max_loss])\n\u001b[0;32m      5\u001b[0m \u001b[1;33m\u001b[0m\u001b[0m\n",
      "\u001b[1;31mNameError\u001b[0m: name 'n_epochs' is not defined"
     ]
    }
   ],
   "source": [
    "pp = ProgressPlot(plot_names=[\"loss\", \"train distance\"],\n",
    "                  line_names=[\"train/pos_IT\", \"valid/pos_II\", \"0/neg_IT\", \"0/neg_II\"],\n",
    "                  x_lim=[0, n_epochs-1], \n",
    "                  y_lim=[0, max_loss])\n",
    "\n",
    "pbar = tqdm(range(n_epochs))\n",
    "\n",
    "for e in pbar:\n",
    "    \n",
    "    loss_dis_train =  TenNet.train(image_model, tag_model, train_loader, triplet_loss, Lambda, optim)\n",
    "    TenNet.output_loss_dis(f\"epoch:{e}: 1-train dataset with train model\", loss_dis_train)\n",
    "        \n",
    "    loss_dis_valid = TenNet.evalue(image_model, tag_model, valid_loader, triplet_loss, Lambda, optim, e, min_valid_loss, True)   \n",
    "    TenNet.output_loss_dis(f\"epoch:{e}: 2-valid dataset with evalue model\", loss_dis_valid)\n",
    "    min_valid_loss = loss_dis_valid[5]\n",
    "\n",
    "    pp.update([ [min(loss_dis_train, max_loss), min(loss_dis_valid, max_loss), 0, 0],\n",
    "                [min(loss_dis_train[1], max_dis), \n",
    "                 min(loss_dis_train[2], max_dis), \n",
    "                 min(loss_dis_train[3], max_dis), \n",
    "                 min(loss_dis_train[4], max_dis)]])\n",
    "pp.finalize()\n"
   ]
  },
  {
   "cell_type": "code",
   "execution_count": null,
   "id": "18ceea6b",
   "metadata": {},
   "outputs": [],
   "source": []
  },
  {
   "cell_type": "code",
   "execution_count": null,
   "id": "7c0bef5f",
   "metadata": {},
   "outputs": [],
   "source": []
  },
  {
   "cell_type": "code",
   "execution_count": null,
   "id": "c2bda6fd",
   "metadata": {},
   "outputs": [],
   "source": []
  },
  {
   "cell_type": "code",
   "execution_count": null,
   "id": "87742550",
   "metadata": {},
   "outputs": [],
   "source": []
  },
  {
   "cell_type": "code",
   "execution_count": null,
   "id": "e0bd7cb5",
   "metadata": {},
   "outputs": [],
   "source": []
  },
  {
   "cell_type": "code",
   "execution_count": null,
   "id": "3e39537f",
   "metadata": {},
   "outputs": [],
   "source": []
  },
  {
   "cell_type": "code",
   "execution_count": null,
   "id": "650a6b6e",
   "metadata": {},
   "outputs": [],
   "source": []
  },
  {
   "cell_type": "code",
   "execution_count": null,
   "id": "34e12f30",
   "metadata": {},
   "outputs": [],
   "source": []
  }
 ],
 "metadata": {
  "kernelspec": {
   "display_name": "Python 3 (ipykernel)",
   "language": "python",
   "name": "python3"
  },
  "language_info": {
   "codemirror_mode": {
    "name": "ipython",
    "version": 3
   },
   "file_extension": ".py",
   "mimetype": "text/x-python",
   "name": "python",
   "nbconvert_exporter": "python",
   "pygments_lexer": "ipython3",
   "version": "3.8.8"
  }
 },
 "nbformat": 4,
 "nbformat_minor": 5
}
