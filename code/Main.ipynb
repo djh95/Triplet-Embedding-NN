{
 "cells": [
  {
   "cell_type": "code",
   "execution_count": 2,
   "id": "2c1a6efa",
   "metadata": {},
   "outputs": [],
   "source": [
    "import torch\n",
    "import torch.nn.functional as F\n",
    "import torchvision.models as models\n",
    "from jupyterplot import ProgressPlot\n",
    "from tqdm.notebook import tqdm\n",
    "\n",
    "from Define import *\n",
    "import NUS_WIDE as nus\n",
    "import TenNet as TenNet\n",
    "import PredictionModel as P\n",
    "from TripletLossFunc import TripletLossFunc"
   ]
  },
  {
   "cell_type": "code",
   "execution_count": 3,
   "id": "cfad4330",
   "metadata": {},
   "outputs": [],
   "source": [
    "getTenNetFromFile = False\n",
    "getDecoderFromFile = False\n",
    "test = False"
   ]
  },
  {
   "cell_type": "code",
   "execution_count": 4,
   "id": "f2754758",
   "metadata": {},
   "outputs": [],
   "source": [
    "if test:\n",
    "    Number_Of_Images_Train = int(400/BATCH_SIZE) * BATCH_SIZE\n",
    "\n",
    "Number_Of_Images_Train = int(1000/BATCH_SIZE) * BATCH_SIZE\n",
    "\n",
    "#NUS_WIDE\n",
    "train_data = nus.NUS_WIDE_Helper(nus.DataSetType.Train_81, Number_Of_Images_Train)\n",
    "valid_data = nus.NUS_WIDE_Helper(nus.DataSetType.Test_81,  Number_Of_Images_Valid)\n",
    "#test_data = NUS_WIDE_Helper(DataSetType.Test_81)\n",
    "\n",
    "batch_size = BATCH_SIZE\n",
    "train_loader = torch.utils.data.DataLoader(train_data, shuffle=True, batch_size=batch_size)\n",
    "valid_loader = torch.utils.data.DataLoader(valid_data, shuffle=True, batch_size=batch_size)\n",
    "#test_loader = torch.utils.data.DataLoader(test_data, shuffle=True, batch_size=batch_size)"
   ]
  },
  {
   "cell_type": "code",
   "execution_count": 5,
   "id": "42ab8958",
   "metadata": {},
   "outputs": [],
   "source": [
    "if test:\n",
    "    image_model = models.vgg11(pretrained=True).to(device)\n",
    "else:\n",
    "    image_model = models.vgg16(pretrained=True).to(device)\n",
    "    \n",
    "#image_model = TenNet_Image().to(device)\n",
    "tag_model = TenNet.TenNet_Tag(train_data.get_tag_list()).to(device)\n",
    "\n",
    "optim = torch.optim.Adam([{'params' : image_model.parameters()}, {'params' : tag_model.parameters()}], lr=0.0001)\n",
    "triplet_loss = TripletLossFunc(Margin_Distance)\n",
    "\n",
    "n_epochs = 20\n",
    "Lambda = 0.01\n",
    "min_valid_loss = -1\n",
    "ten_res = []"
   ]
  },
  {
   "cell_type": "code",
   "execution_count": 6,
   "id": "e267b4c9",
   "metadata": {},
   "outputs": [
    {
     "data": {
      "application/vnd.jupyter.widget-view+json": {
       "model_id": "240677d149ae427f90d655e32f5f3f80",
       "version_major": 2,
       "version_minor": 0
      },
      "text/plain": [
       "  0%|          | 0/5 [00:00<?, ?it/s]"
      ]
     },
     "metadata": {},
     "output_type": "display_data"
    },
    {
     "name": "stdout",
     "output_type": "stream",
     "text": [
      "epoch:0:\n"
     ]
    },
    {
     "name": "stderr",
     "output_type": "stream",
     "text": [
      "C:\\ProgramData\\Anaconda3\\lib\\site-packages\\torch\\nn\\functional.py:718: UserWarning: Named tensors and all their associated APIs are an experimental feature and subject to change. Please do not use them for anything important until they are released as stable. (Triggered internally at  ..\\c10/core/TensorImpl.h:1156.)\n",
      "  return torch.max_pool2d(input, kernel_size, stride, padding, dilation, ceil_mode)\n"
     ]
    },
    {
     "name": "stdout",
     "output_type": "stream",
     "text": [
      " 2-valid dataset with evalue model\n",
      "loss: 1010.07,  IT_pos_dis: 47.23,  II_pos_dis: 27.98,  IT_neg_dis: 47.23,  II_neg_dis: 28.48.\n",
      " 1-train dataset with train model\n",
      "loss: 912.19,  IT_pos_dis: 126.37,  II_pos_dis: 60.00,  IT_neg_dis: 126.90,  II_neg_dis: 59.92.\n",
      "6-6-1 use the same data set and way to train the model, but 6 doesn't updata the weight.\n",
      "\n",
      "epoch:1:\n",
      " 2-valid dataset with evalue model\n",
      "loss: 948.59,  IT_pos_dis: 61.90,  II_pos_dis: 15.81,  IT_neg_dis: 62.35,  II_neg_dis: 15.94.\n",
      " 1-train dataset with train model\n",
      "loss: 874.22,  IT_pos_dis: 78.79,  II_pos_dis: 40.35,  IT_neg_dis: 79.86,  II_neg_dis: 40.27.\n",
      "6-6-1 use the same data set and way to train the model, but 6 doesn't updata the weight.\n",
      "\n",
      "epoch:2:\n",
      " 2-valid dataset with evalue model\n",
      "loss: 818.54,  IT_pos_dis: 77.68,  II_pos_dis: 32.92,  IT_neg_dis: 79.19,  II_neg_dis: 34.68.\n",
      " 1-train dataset with train model\n",
      "loss: 830.70,  IT_pos_dis: 73.37,  II_pos_dis: 51.23,  IT_neg_dis: 75.00,  II_neg_dis: 52.04.\n",
      "6-6-1 use the same data set and way to train the model, but 6 doesn't updata the weight.\n",
      "\n",
      "epoch:3:\n",
      " 2-valid dataset with evalue model\n",
      "loss: 839.33,  IT_pos_dis: 80.38,  II_pos_dis: 29.11,  IT_neg_dis: 81.97,  II_neg_dis: 33.77.\n",
      " 1-train dataset with train model\n",
      "loss: 831.43,  IT_pos_dis: 67.46,  II_pos_dis: 40.15,  IT_neg_dis: 69.06,  II_neg_dis: 40.76.\n",
      "6-6-1 use the same data set and way to train the model, but 6 doesn't updata the weight.\n",
      "\n",
      "epoch:4:\n",
      " 2-valid dataset with evalue model\n",
      "loss: 854.33,  IT_pos_dis: 41.93,  II_pos_dis: 34.49,  IT_neg_dis: 43.54,  II_neg_dis: 35.75.\n",
      " 1-train dataset with train model\n",
      "loss: 847.85,  IT_pos_dis: 58.98,  II_pos_dis: 44.97,  IT_neg_dis: 60.81,  II_neg_dis: 47.41.\n",
      "6-6-1 use the same data set and way to train the model, but 6 doesn't updata the weight.\n",
      "\n"
     ]
    }
   ],
   "source": [
    "if getTenNetFromFile:\n",
    "    TenNet.getTenModel(tag_model, image_model, name = \"SavedModelState/IT_model.ckpt\")\n",
    "else:\n",
    "\n",
    "    pbar = tqdm(range(n_epochs))\n",
    "\n",
    "    for e in pbar:\n",
    "        \n",
    "        loss_dis_train =  TenNet.train(image_model, tag_model, train_loader, triplet_loss, Lambda, optim)\n",
    "        loss_dis_valid = TenNet.evalue(image_model, tag_model, valid_loader, triplet_loss, Lambda, optim, e, min_valid_loss, True) \n",
    "    \n",
    "        print(f\"epoch:{e}:\")\n",
    "        TenNet.output_loss_dis(f\" 1-train dataset train model\", loss_dis_train) \n",
    "        TenNet.output_loss_dis(f\" 2-valid dataset evalue model\", loss_dis_valid)\n",
    "        min_valid_loss = loss_dis_valid[5]\n",
    "  \n",
    "        ten_res.append([loss_dis_train,loss_dis_valid])\n",
    "        \n",
    "        if test and e == 2:\n",
    "            break\n",
    "        "
   ]
  },
  {
   "cell_type": "code",
   "execution_count": null,
   "id": "caf7ca16",
   "metadata": {},
   "outputs": [],
   "source": [
    "res = ten_res\n",
    "TenNet.printLossLog(res, n_epochs)\n",
    "TenNet.printLossProgressPlot(res, n_epochs)\n",
    "TenNet.printDistanceProgressPlot(res, n_epochs, train=True)\n",
    "TenNet.printDistanceProgressPlot(res, n_epochs, train=False)"
   ]
  },
  {
   "cell_type": "code",
   "execution_count": null,
   "id": "86f2ba40",
   "metadata": {
    "scrolled": true
   },
   "outputs": [],
   "source": []
  },
  {
   "cell_type": "code",
   "execution_count": null,
   "id": "18ceea6b",
   "metadata": {},
   "outputs": [],
   "source": []
  },
  {
   "cell_type": "code",
   "execution_count": null,
   "id": "7c0bef5f",
   "metadata": {},
   "outputs": [],
   "source": []
  },
  {
   "cell_type": "code",
   "execution_count": null,
   "id": "c2bda6fd",
   "metadata": {},
   "outputs": [],
   "source": []
  },
  {
   "cell_type": "code",
   "execution_count": null,
   "id": "87742550",
   "metadata": {},
   "outputs": [],
   "source": []
  },
  {
   "cell_type": "code",
   "execution_count": null,
   "id": "e0bd7cb5",
   "metadata": {},
   "outputs": [],
   "source": []
  },
  {
   "cell_type": "code",
   "execution_count": null,
   "id": "3e39537f",
   "metadata": {},
   "outputs": [],
   "source": []
  },
  {
   "cell_type": "code",
   "execution_count": null,
   "id": "650a6b6e",
   "metadata": {},
   "outputs": [],
   "source": []
  },
  {
   "cell_type": "code",
   "execution_count": null,
   "id": "34e12f30",
   "metadata": {
    "scrolled": true
   },
   "outputs": [],
   "source": []
  },
  {
   "cell_type": "code",
   "execution_count": null,
   "id": "4f995917",
   "metadata": {},
   "outputs": [],
   "source": []
  },
  {
   "cell_type": "code",
   "execution_count": null,
   "id": "4d87de29",
   "metadata": {},
   "outputs": [],
   "source": [
    "predict_model = P.TagDecoder(train_data.get_tag_num()).to(device)\n",
    "\n",
    "optim = torch.optim.Adam(predict_model.parameters(), lr=0.001)\n",
    "loss_funk = F.pairwise_distance \n",
    "\n",
    "n_epochs = N_Epochs_Decoder\n",
    "max_accuracy = -1\n",
    "threshold = 0.5\n",
    "decoder_res = []"
   ]
  },
  {
   "cell_type": "code",
   "execution_count": null,
   "id": "aabfbc71",
   "metadata": {},
   "outputs": [],
   "source": [
    "if getDecoderFromFile:\n",
    "    P.getDecoderModel(predict_model, name = \"SavedModelState/decoder_model.ckpt\")\n",
    "else:\n",
    "    pbar = tqdm(range(n_epochs))\n",
    "\n",
    "    for e in pbar:\n",
    "    \n",
    "        loss_num_train = P.train(predict_model, tag_model, image_model, train_loader, loss_funk, optim, threshold)\n",
    "        P.output_loss_num(f\"epoch:{e}: 1-train dataset with train model\", loss_num_train)\n",
    "        \n",
    "        loss_num_valid = P.predict(predict_model, tag_model, image_model, valid_loader, loss_funk, optim, threshold, True, max_accuracy, e)   \n",
    "        P.output_loss_num(f\"epoch:{e}: 2-valid dataset with evalue model\", loss_num_valid)\n",
    "        max_accuracy = loss_num_valid[4]\n",
    "    \n",
    "        decoder_res.append([loss_num_train,loss_num_valid])"
   ]
  },
  {
   "cell_type": "code",
   "execution_count": null,
   "id": "2f62ca5d",
   "metadata": {},
   "outputs": [],
   "source": [
    "\n",
    "    pp = ProgressPlot(plot_names=[\"loss\", \"mean num of tags\", \"accuracy\"], \n",
    "                      line_names=[\"train/correct\", \"valid/total\"],\n",
    "                      x_lim=[0, n_epochs-1], \n",
    "                      y_lim=[[0,50], [0,20], [0,1]])\n",
    "P.printResult(decoder_res, n_epochs)"
   ]
  },
  {
   "cell_type": "code",
   "execution_count": null,
   "id": "d0988084",
   "metadata": {},
   "outputs": [],
   "source": [
    "print(z_images_pos, z_images_neg)\n",
    "print(tag_features[0])\n",
    "print(image_features)"
   ]
  },
  {
   "cell_type": "code",
   "execution_count": null,
   "id": "4a3291fb",
   "metadata": {},
   "outputs": [],
   "source": [
    "  \n",
    "        '''\n",
    "        print(f\"epoch:{e}:\")\n",
    "        print(\"1-7 use the same weights, since just 1 updates the weights.\\n\")\n",
    "        loss_dis_valid = TenNet.evalue(image_model, tag_model, valid_loader, triplet_loss, Lambda, optim, e, min_valid_loss, True)   \n",
    "        TenNet.output_loss_dis(f\" 2-valid dataset with evalue model\", loss_dis_valid)\n",
    "        min_valid_loss = loss_dis_valid[5]\n",
    "        \n",
    "        loss_dis_train = TenNet.evalue(image_model, tag_model, train_loader, triplet_loss, Lambda, optim, e, min_valid_loss, True)   \n",
    "        TenNet.output_loss_dis(f\" 3-train dataset with evalue model\", loss_dis_train)\n",
    "        \n",
    "        print(\"2-3 use the same way to evalue the model (both eval() and no_grad()), but different data sets.\\n\")\n",
    "        \n",
    "        loss_dis_train = TenNet.evalue2(image_model, tag_model, train_loader, triplet_loss, Lambda, optim)   \n",
    "        TenNet.output_loss_dis(f\" 4-train dataset with evalue model, just evalue model\", loss_dis_train)\n",
    "        \n",
    "        loss_dis_train = TenNet.evalue3(image_model, tag_model, train_loader, triplet_loss, Lambda, optim)   \n",
    "        TenNet.output_loss_dis(f\" 5-train dataset with evalue model, just no gradient\", loss_dis_train)\n",
    "        \n",
    "        print(\"4-5 use the same data set, but different ways to train the model.One uses eval(), one uses no_grad().\\n\")\n",
    "        \n",
    "        loss_dis_train =  TenNet.train(image_model, tag_model, train_loader, triplet_loss, Lambda, optim, False)\n",
    "        TenNet.output_loss_dis(f\" 6-train dataset with train model, but doesn't updata\", loss_dis_train)\n",
    "        \n",
    "        loss_dis_train =  TenNet.train(image_model, tag_model, train_loader, triplet_loss, Lambda, optim, False)\n",
    "        TenNet.output_loss_dis(f\" 6-train dataset with train model, but doesn't updata\", loss_dis_train)\n",
    "        \n",
    "        loss_dis_train =  TenNet.train(image_model, tag_model, train_loader, triplet_loss, Lambda, optim)\n",
    "        TenNet.output_loss_dis(f\" 1-train dataset with train model\", loss_dis_train)\n",
    "        \n",
    "        print(\"6-6-1 use the same data set and way to train the model, but 6 doesn't updata the weight.\\n\")\n",
    "        '''"
   ]
  }
 ],
 "metadata": {
  "kernelspec": {
   "display_name": "Python 3 (ipykernel)",
   "language": "python",
   "name": "python3"
  },
  "language_info": {
   "codemirror_mode": {
    "name": "ipython",
    "version": 3
   },
   "file_extension": ".py",
   "mimetype": "text/x-python",
   "name": "python",
   "nbconvert_exporter": "python",
   "pygments_lexer": "ipython3",
   "version": "3.8.8"
  }
 },
 "nbformat": 4,
 "nbformat_minor": 5
}
