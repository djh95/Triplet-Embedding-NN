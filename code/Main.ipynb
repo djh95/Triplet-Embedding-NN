{
 "cells": [
  {
   "cell_type": "code",
   "execution_count": 2,
   "id": "2c1a6efa",
   "metadata": {},
   "outputs": [
    {
     "name": "stderr",
     "output_type": "stream",
     "text": [
      "C:\\ProgramData\\Anaconda3\\lib\\site-packages\\gensim\\similarities\\__init__.py:15: UserWarning: The gensim.similarities.levenshtein submodule is disabled, because the optional Levenshtein package <https://pypi.org/project/python-Levenshtein/> is unavailable. Install Levenhstein (e.g. `pip install python-Levenshtein`) to suppress this warning.\n",
      "  warnings.warn(msg)\n"
     ]
    }
   ],
   "source": [
    "import torch\n",
    "import torch.nn.functional as F\n",
    "import torchvision.models as models\n",
    "from jupyterplot import ProgressPlot\n",
    "from tqdm.notebook import tqdm\n",
    "\n",
    "from Define import *\n",
    "import NUS_WIDE as nus\n",
    "import TenNet as TenNet\n",
    "import PredictionModel as P\n",
    "from TripletLossFunc import TripletLossFunc\n",
    "from Word2Vec import *"
   ]
  },
  {
   "cell_type": "code",
   "execution_count": 3,
   "id": "cfad4330",
   "metadata": {},
   "outputs": [],
   "source": [
    "getTenNetFromFile = False\n",
    "getDecoderFromFile = False\n",
    "test = False\n",
    "evalue = True"
   ]
  },
  {
   "cell_type": "code",
   "execution_count": 6,
   "id": "f2754758",
   "metadata": {},
   "outputs": [],
   "source": [
    "if test or device == torch.device('cpu'):\n",
    "    Number_Of_Images_Train = 100\n",
    "    Number_Of_Images_Valid = 100\n",
    "    N_Epochs = 1\n",
    "    N_Epochs_Decoder = 1\n",
    "    \n",
    "#NUS_WIDE\n",
    "if not evalue or not getTenNetFromFile:\n",
    "    train_data = nus.NUS_WIDE_Helper(nus.DataSetType.Train_81, number=Number_Of_Images_Train, min_tag_num=2)\n",
    "    \n",
    "valid_data = nus.NUS_WIDE_Helper(nus.DataSetType.Test_81,  number=Number_Of_Images_Valid, min_tag_num=2)\n",
    "#test_data = NUS_WIDE_Helper(DataSetType.Test_81)\n",
    "\n",
    "#train_data_1k = nus.NUS_WIDE_Helper(nus.DataSetType.Train_1k, Number_Of_Images_Train)\n",
    "#valid_data_1k = nus.NUS_WIDE_Helper(nus.DataSetType.Test_1k,  Number_Of_Images_Valid)\n",
    "\n",
    "if getTenNetFromFile:\n",
    "    train_loader = None\n",
    "    valid_loader = None\n",
    "else:\n",
    "    batch_size = BATCH_SIZE\n",
    "    train_loader = torch.utils.data.DataLoader(train_data, shuffle=True, drop_last=True, batch_size=batch_size)\n",
    "    valid_loader = torch.utils.data.DataLoader(valid_data, shuffle=True, drop_last=True, batch_size=batch_size)\n",
    "    #test_loader = torch.utils.data.DataLoader(test_data, shuffle=True, batch_size=batch_size)"
   ]
  },
  {
   "cell_type": "code",
   "execution_count": null,
   "id": "42ab8958",
   "metadata": {},
   "outputs": [],
   "source": [
    "n_epochs = N_Epochs\n",
    "Lambda = 0.01\n",
    "\n",
    "if test or device == torch.device('cpu'):\n",
    "    image_model = models.vgg11(pretrained=True).to(device)\n",
    "else:\n",
    "    image_model = models.vgg16(pretrained=True).to(device) \n",
    "#image_model = TenNet_Image().to(device)\n",
    "\n",
    "Word2Vec_wv = compute_word_matrix(train_data.image_tags)\n",
    "#tag_model = TenNet.TenNet_Tag_V(valid_data.get_tag_list(), in_channel=2, additional_matrix=Word2Vec_wv).to(device)\n",
    "tag_model = TenNet.TenNet_Tag_V2(valid_data.get_tag_list(), in_channel=2, additional_matrix=Word2Vec_wv).to(device)\n",
    "\n",
    "#triplet_loss = TripletLossFunc(Margin_Distance)\n",
    "triplet_loss = TripletLossFunc(Margin_Distance, hybrid=True, beta=0.05, t1=0, t2=0.005 * Single_Distance * Feature_Dimensions)\n",
    "\n",
    "name = \"../SavedModelState/IT_model_\" + str(Margin_Distance) +\".ckpt\"\n",
    "ten_res = TenNet.run(image_model,tag_model,train_loader,valid_loader,triplet_loss,Lambda,n_epochs,test,getTenNetFromFile,name)"
   ]
  },
  {
   "cell_type": "code",
   "execution_count": null,
   "id": "caf7ca16",
   "metadata": {},
   "outputs": [],
   "source": [
    "if not getTenNetFromFile:\n",
    "    res = ten_res\n",
    "    TenNet.printLossProgressPlot(res, n_epochs)\n",
    "    TenNet.printDistanceProgressPlot(res, n_epochs, train=True)\n",
    "    TenNet.printDistanceProgressPlot(res, n_epochs, train=False)\n",
    "else:\n",
    "    TenNet.test(image_model, tag_model, valid_loader, triplet_loss, Lambda)\n",
    "\n",
    "TenNet.evalue(train_data, image_model, tag_model, k=3)\n",
    "TenNet.evalue(valid_data, image_model, tag_model, k=3)"
   ]
  },
  {
   "cell_type": "code",
   "execution_count": null,
   "id": "9ce9ae32",
   "metadata": {},
   "outputs": [],
   "source": [
    "###########################################\n",
    "############################################\n",
    "###########################################\n",
    "##########################################\n",
    "#######################################\n",
    "###########################################"
   ]
  },
  {
   "cell_type": "code",
   "execution_count": null,
   "id": "086a8f3b",
   "metadata": {},
   "outputs": [],
   "source": []
  },
  {
   "cell_type": "code",
   "execution_count": 8,
   "id": "e3ded519",
   "metadata": {},
   "outputs": [],
   "source": [
    "a = torch.randn((81,256))\n",
    "tag_model = TenNet.TenNet_Tag_V2(valid_data.get_tag_list(), in_channel=2, additional_matrix=a).to(device)\n",
    "tag_model"
   ]
  },
  {
   "cell_type": "code",
   "execution_count": 1,
   "id": "27346051",
   "metadata": {},
   "outputs": [
    {
     "ename": "NameError",
     "evalue": "name 'torch' is not defined",
     "output_type": "error",
     "traceback": [
      "\u001b[1;31m---------------------------------------------------------------------------\u001b[0m",
      "\u001b[1;31mNameError\u001b[0m                                 Traceback (most recent call last)",
      "\u001b[1;32m~\\AppData\\Local\\Temp/ipykernel_20716/2230906601.py\u001b[0m in \u001b[0;36m<module>\u001b[1;34m\u001b[0m\n\u001b[1;32m----> 1\u001b[1;33m \u001b[0mloss_funk\u001b[0m \u001b[1;33m=\u001b[0m \u001b[0mtorch\u001b[0m\u001b[1;33m.\u001b[0m\u001b[0mnn\u001b[0m\u001b[1;33m.\u001b[0m\u001b[0mMSELoss\u001b[0m\u001b[1;33m(\u001b[0m\u001b[0mreduce\u001b[0m\u001b[1;33m=\u001b[0m\u001b[1;32mFalse\u001b[0m\u001b[1;33m,\u001b[0m \u001b[0msize_average\u001b[0m\u001b[1;33m=\u001b[0m\u001b[1;32mFalse\u001b[0m\u001b[1;33m)\u001b[0m\u001b[1;33m\u001b[0m\u001b[1;33m\u001b[0m\u001b[0m\n\u001b[0m\u001b[0;32m      2\u001b[0m \u001b[1;31m#loss_funk = F.pairwise_distance\u001b[0m\u001b[1;33m\u001b[0m\u001b[1;33m\u001b[0m\u001b[1;33m\u001b[0m\u001b[0m\n\u001b[0;32m      3\u001b[0m \u001b[0mn_epochs\u001b[0m \u001b[1;33m=\u001b[0m \u001b[1;36m60\u001b[0m\u001b[1;33m\u001b[0m\u001b[1;33m\u001b[0m\u001b[0m\n\u001b[0;32m      4\u001b[0m \u001b[0mthreshold\u001b[0m \u001b[1;33m=\u001b[0m \u001b[1;36m0.5\u001b[0m\u001b[1;33m\u001b[0m\u001b[1;33m\u001b[0m\u001b[0m\n\u001b[0;32m      5\u001b[0m \u001b[1;33m\u001b[0m\u001b[0m\n",
      "\u001b[1;31mNameError\u001b[0m: name 'torch' is not defined"
     ]
    }
   ],
   "source": [
    "loss_funk = torch.nn.MSELoss(reduce=False, size_average=False)\n",
    "#loss_funk = F.pairwise_distance\n",
    "n_epochs = 60 \n",
    "threshold = 0.5\n",
    "\n",
    "hybrid_model = P.TagDecoder(train_data.get_tag_num()).to(device)\n",
    "mod = P.LossModel.HybridModel2\n",
    "hybrid_res = P.run(hybrid_model,mod,tag_model,image_model,train_loader,valid_loader,loss_funk,threshold,n_epochs,test,getDecoderFromFile)"
   ]
  },
  {
   "cell_type": "code",
   "execution_count": null,
   "id": "a3e6e602",
   "metadata": {},
   "outputs": [],
   "source": []
  },
  {
   "cell_type": "code",
   "execution_count": null,
   "id": "c2e090f0",
   "metadata": {},
   "outputs": [],
   "source": [
    "if not getDecoderFromFile:\n",
    "    res = hybrid_res\n",
    "    P.printLossProgressPlot(res, n_epochs)\n",
    "    P.printTagNumProgressPlot(res, n_epochs)\n",
    "    P.printAccuracyProgressPlot(res, n_epochs)"
   ]
  },
  {
   "cell_type": "code",
   "execution_count": null,
   "id": "e0bd7cb5",
   "metadata": {},
   "outputs": [],
   "source": [
    "predict_model = P.TagDecoder(train_data.get_tag_num()).to(device)\n",
    "mod = P.LossModel.PredictModel\n",
    "predict_res =P.run(predict_model,mod,tag_model,image_model,train_loader,valid_loader,loss_funk,threshold,n_epochs,test,getDecoderFromFile)"
   ]
  },
  {
   "cell_type": "code",
   "execution_count": null,
   "id": "3e39537f",
   "metadata": {},
   "outputs": [],
   "source": [
    "res = predict_res\n",
    "#P.printLossLog(res, n_epochs)\n",
    "P.printLossProgressPlot(res, n_epochs)\n",
    "P.printTagNumProgressPlot(res, n_epochs)\n",
    "P.printAccuracyProgressPlot(res, n_epochs)"
   ]
  },
  {
   "cell_type": "code",
   "execution_count": null,
   "id": "650a6b6e",
   "metadata": {},
   "outputs": [],
   "source": [
    "decoder_model = P.TagDecoder(train_data.get_tag_num()).to(device)\n",
    "mod = P.LossModel.DecoderModel\n",
    "decoder_res =P.run(decoder_model,mod,tag_model,image_model,train_loader,valid_loader,loss_funk,threshold,n_epochs,test,getDecoderFromFile)"
   ]
  },
  {
   "cell_type": "code",
   "execution_count": null,
   "id": "34e12f30",
   "metadata": {
    "scrolled": true
   },
   "outputs": [],
   "source": [
    "res = decoder_res\n",
    "#P.printLossLog(res, n_epochs)\n",
    "P.printLossProgressPlot(res, n_epochs)\n",
    "P.printTagNumProgressPlot(res, n_epochs)\n",
    "P.printAccuracyProgressPlot(res, n_epochs)"
   ]
  }
 ],
 "metadata": {
  "interpreter": {
   "hash": "b3ba2566441a7c06988d0923437866b63cedc61552a5af99d1f4fb67d367b25f"
  },
  "kernelspec": {
   "display_name": "Python 3 (ipykernel)",
   "language": "python",
   "name": "python3"
  },
  "language_info": {
   "codemirror_mode": {
    "name": "ipython",
    "version": 3
   },
   "file_extension": ".py",
   "mimetype": "text/x-python",
   "name": "python",
   "nbconvert_exporter": "python",
   "pygments_lexer": "ipython3",
   "version": "3.8.8"
  }
 },
 "nbformat": 4,
 "nbformat_minor": 5
}
