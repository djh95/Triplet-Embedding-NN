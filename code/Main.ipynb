{
 "cells": [
  {
   "cell_type": "code",
   "execution_count": 1,
   "id": "2c1a6efa",
   "metadata": {},
   "outputs": [],
   "source": [
    "import torch\n",
    "import torch.nn.functional as F\n",
    "import torchvision.models as models\n",
    "from jupyterplot import ProgressPlot\n",
    "from tqdm.notebook import tqdm\n",
    "\n",
    "from Define import *\n",
    "import NUS_WIDE as nus\n",
    "import TenNet as TenNet\n",
    "import PredictionModel as P\n",
    "from TripletLossFunc import TripletLossFunc"
   ]
  },
  {
   "cell_type": "code",
   "execution_count": 2,
   "id": "cfad4330",
   "metadata": {},
   "outputs": [],
   "source": [
    "getTenNetFromFile = True\n",
    "getDecoderFromFile = False\n",
    "test = False"
   ]
  },
  {
   "cell_type": "code",
   "execution_count": 3,
   "id": "f2754758",
   "metadata": {},
   "outputs": [
    {
     "ename": "KeyboardInterrupt",
     "evalue": "",
     "output_type": "error",
     "traceback": [
      "\u001b[1;31m---------------------------------------------------------------------------\u001b[0m",
      "\u001b[1;31mKeyboardInterrupt\u001b[0m                         Traceback (most recent call last)",
      "\u001b[1;32m~\\AppData\\Local\\Temp/ipykernel_5252/3655216941.py\u001b[0m in \u001b[0;36m<module>\u001b[1;34m\u001b[0m\n\u001b[0;32m      6\u001b[0m \u001b[1;33m\u001b[0m\u001b[0m\n\u001b[0;32m      7\u001b[0m \u001b[1;31m#NUS_WIDE\u001b[0m\u001b[1;33m\u001b[0m\u001b[1;33m\u001b[0m\u001b[1;33m\u001b[0m\u001b[0m\n\u001b[1;32m----> 8\u001b[1;33m \u001b[0mtrain_data\u001b[0m \u001b[1;33m=\u001b[0m \u001b[0mnus\u001b[0m\u001b[1;33m.\u001b[0m\u001b[0mNUS_WIDE_Helper\u001b[0m\u001b[1;33m(\u001b[0m\u001b[0mnus\u001b[0m\u001b[1;33m.\u001b[0m\u001b[0mDataSetType\u001b[0m\u001b[1;33m.\u001b[0m\u001b[0mTrain_81\u001b[0m\u001b[1;33m,\u001b[0m \u001b[0mNumber_Of_Images_Train\u001b[0m\u001b[1;33m)\u001b[0m\u001b[1;33m\u001b[0m\u001b[1;33m\u001b[0m\u001b[0m\n\u001b[0m\u001b[0;32m      9\u001b[0m \u001b[0mvalid_data\u001b[0m \u001b[1;33m=\u001b[0m \u001b[0mnus\u001b[0m\u001b[1;33m.\u001b[0m\u001b[0mNUS_WIDE_Helper\u001b[0m\u001b[1;33m(\u001b[0m\u001b[0mnus\u001b[0m\u001b[1;33m.\u001b[0m\u001b[0mDataSetType\u001b[0m\u001b[1;33m.\u001b[0m\u001b[0mTest_81\u001b[0m\u001b[1;33m,\u001b[0m  \u001b[0mNumber_Of_Images_Valid\u001b[0m\u001b[1;33m)\u001b[0m\u001b[1;33m\u001b[0m\u001b[1;33m\u001b[0m\u001b[0m\n\u001b[0;32m     10\u001b[0m \u001b[1;31m#test_data = NUS_WIDE_Helper(DataSetType.Test_81)\u001b[0m\u001b[1;33m\u001b[0m\u001b[1;33m\u001b[0m\u001b[1;33m\u001b[0m\u001b[0m\n",
      "\u001b[1;32m~\\code\\python\\TENN\\Triplet-Embedding-NN\\code\\NUS_WIDE\\NUS_WIDE_Helper.py\u001b[0m in \u001b[0;36m__init__\u001b[1;34m(self, data_set_type, number, min_tag_num)\u001b[0m\n\u001b[0;32m     66\u001b[0m \u001b[1;33m\u001b[0m\u001b[0m\n\u001b[0;32m     67\u001b[0m         \u001b[1;31m# read data\u001b[0m\u001b[1;33m\u001b[0m\u001b[1;33m\u001b[0m\u001b[1;33m\u001b[0m\u001b[0m\n\u001b[1;32m---> 68\u001b[1;33m         \u001b[0mself\u001b[0m\u001b[1;33m.\u001b[0m\u001b[0mimage_tags\u001b[0m \u001b[1;33m=\u001b[0m \u001b[0mnp\u001b[0m\u001b[1;33m.\u001b[0m\u001b[0mloadtxt\u001b[0m\u001b[1;33m(\u001b[0m\u001b[0mself\u001b[0m\u001b[1;33m.\u001b[0m\u001b[0mimage_tags_path\u001b[0m\u001b[1;33m,\u001b[0m \u001b[0mdtype\u001b[0m\u001b[1;33m=\u001b[0m\u001b[0mbool\u001b[0m\u001b[1;33m)\u001b[0m\u001b[1;33m\u001b[0m\u001b[1;33m\u001b[0m\u001b[0m\n\u001b[0m\u001b[0;32m     69\u001b[0m         \u001b[0mself\u001b[0m\u001b[1;33m.\u001b[0m\u001b[0mimage_list\u001b[0m \u001b[1;33m=\u001b[0m \u001b[0mnp\u001b[0m\u001b[1;33m.\u001b[0m\u001b[0mloadtxt\u001b[0m\u001b[1;33m(\u001b[0m\u001b[0mself\u001b[0m\u001b[1;33m.\u001b[0m\u001b[0mimage_list_path\u001b[0m\u001b[1;33m,\u001b[0m \u001b[0mdtype\u001b[0m\u001b[1;33m=\u001b[0m\u001b[0mstr\u001b[0m\u001b[1;33m)\u001b[0m\u001b[1;33m\u001b[0m\u001b[1;33m\u001b[0m\u001b[0m\n\u001b[0;32m     70\u001b[0m         \u001b[0mself\u001b[0m\u001b[1;33m.\u001b[0m\u001b[0mimages_number\u001b[0m \u001b[1;33m=\u001b[0m \u001b[0mlen\u001b[0m\u001b[1;33m(\u001b[0m\u001b[0mself\u001b[0m\u001b[1;33m.\u001b[0m\u001b[0mimage_tags\u001b[0m\u001b[1;33m)\u001b[0m\u001b[1;33m\u001b[0m\u001b[1;33m\u001b[0m\u001b[0m\n",
      "\u001b[1;32mC:\\ProgramData\\Anaconda3\\lib\\site-packages\\numpy\\lib\\npyio.py\u001b[0m in \u001b[0;36mloadtxt\u001b[1;34m(fname, dtype, comments, delimiter, converters, skiprows, usecols, unpack, ndmin, encoding, max_rows, like)\u001b[0m\n\u001b[0;32m   1146\u001b[0m         \u001b[1;31m# converting the data\u001b[0m\u001b[1;33m\u001b[0m\u001b[1;33m\u001b[0m\u001b[1;33m\u001b[0m\u001b[0m\n\u001b[0;32m   1147\u001b[0m         \u001b[0mX\u001b[0m \u001b[1;33m=\u001b[0m \u001b[1;32mNone\u001b[0m\u001b[1;33m\u001b[0m\u001b[1;33m\u001b[0m\u001b[0m\n\u001b[1;32m-> 1148\u001b[1;33m         \u001b[1;32mfor\u001b[0m \u001b[0mx\u001b[0m \u001b[1;32min\u001b[0m \u001b[0mread_data\u001b[0m\u001b[1;33m(\u001b[0m\u001b[0m_loadtxt_chunksize\u001b[0m\u001b[1;33m)\u001b[0m\u001b[1;33m:\u001b[0m\u001b[1;33m\u001b[0m\u001b[1;33m\u001b[0m\u001b[0m\n\u001b[0m\u001b[0;32m   1149\u001b[0m             \u001b[1;32mif\u001b[0m \u001b[0mX\u001b[0m \u001b[1;32mis\u001b[0m \u001b[1;32mNone\u001b[0m\u001b[1;33m:\u001b[0m\u001b[1;33m\u001b[0m\u001b[1;33m\u001b[0m\u001b[0m\n\u001b[0;32m   1150\u001b[0m                 \u001b[0mX\u001b[0m \u001b[1;33m=\u001b[0m \u001b[0mnp\u001b[0m\u001b[1;33m.\u001b[0m\u001b[0marray\u001b[0m\u001b[1;33m(\u001b[0m\u001b[0mx\u001b[0m\u001b[1;33m,\u001b[0m \u001b[0mdtype\u001b[0m\u001b[1;33m)\u001b[0m\u001b[1;33m\u001b[0m\u001b[1;33m\u001b[0m\u001b[0m\n",
      "\u001b[1;32mC:\\ProgramData\\Anaconda3\\lib\\site-packages\\numpy\\lib\\npyio.py\u001b[0m in \u001b[0;36mread_data\u001b[1;34m(chunk_size)\u001b[0m\n\u001b[0;32m    985\u001b[0m         \u001b[0mline_iter\u001b[0m \u001b[1;33m=\u001b[0m \u001b[0mitertools\u001b[0m\u001b[1;33m.\u001b[0m\u001b[0mchain\u001b[0m\u001b[1;33m(\u001b[0m\u001b[1;33m[\u001b[0m\u001b[0mfirst_line\u001b[0m\u001b[1;33m]\u001b[0m\u001b[1;33m,\u001b[0m \u001b[0mfh\u001b[0m\u001b[1;33m)\u001b[0m\u001b[1;33m\u001b[0m\u001b[1;33m\u001b[0m\u001b[0m\n\u001b[0;32m    986\u001b[0m         \u001b[0mline_iter\u001b[0m \u001b[1;33m=\u001b[0m \u001b[0mitertools\u001b[0m\u001b[1;33m.\u001b[0m\u001b[0mislice\u001b[0m\u001b[1;33m(\u001b[0m\u001b[0mline_iter\u001b[0m\u001b[1;33m,\u001b[0m \u001b[0mmax_rows\u001b[0m\u001b[1;33m)\u001b[0m\u001b[1;33m\u001b[0m\u001b[1;33m\u001b[0m\u001b[0m\n\u001b[1;32m--> 987\u001b[1;33m         \u001b[1;32mfor\u001b[0m \u001b[0mi\u001b[0m\u001b[1;33m,\u001b[0m \u001b[0mline\u001b[0m \u001b[1;32min\u001b[0m \u001b[0menumerate\u001b[0m\u001b[1;33m(\u001b[0m\u001b[0mline_iter\u001b[0m\u001b[1;33m)\u001b[0m\u001b[1;33m:\u001b[0m\u001b[1;33m\u001b[0m\u001b[1;33m\u001b[0m\u001b[0m\n\u001b[0m\u001b[0;32m    988\u001b[0m             \u001b[0mvals\u001b[0m \u001b[1;33m=\u001b[0m \u001b[0msplit_line\u001b[0m\u001b[1;33m(\u001b[0m\u001b[0mline\u001b[0m\u001b[1;33m)\u001b[0m\u001b[1;33m\u001b[0m\u001b[1;33m\u001b[0m\u001b[0m\n\u001b[0;32m    989\u001b[0m             \u001b[1;32mif\u001b[0m \u001b[0mlen\u001b[0m\u001b[1;33m(\u001b[0m\u001b[0mvals\u001b[0m\u001b[1;33m)\u001b[0m \u001b[1;33m==\u001b[0m \u001b[1;36m0\u001b[0m\u001b[1;33m:\u001b[0m\u001b[1;33m\u001b[0m\u001b[1;33m\u001b[0m\u001b[0m\n",
      "\u001b[1;31mKeyboardInterrupt\u001b[0m: "
     ]
    }
   ],
   "source": [
    "if test or device == torch.device('cpu'):\n",
    "    Number_Of_Images_Train = 100\n",
    "    Number_Of_Images_Valid = 100\n",
    "    N_Epochs = 1\n",
    "    N_Epochs_Decoder = 1\n",
    "    \n",
    "#NUS_WIDE\n",
    "train_data = nus.NUS_WIDE_Helper(nus.DataSetType.Train_81, Number_Of_Images_Train)\n",
    "valid_data = nus.NUS_WIDE_Helper(nus.DataSetType.Test_81,  Number_Of_Images_Valid)\n",
    "#test_data = NUS_WIDE_Helper(DataSetType.Test_81)\n",
    "\n",
    "batch_size = BATCH_SIZE\n",
    "train_loader = torch.utils.data.DataLoader(train_data, shuffle=True, batch_size=batch_size)\n",
    "valid_loader = torch.utils.data.DataLoader(valid_data, shuffle=True, batch_size=batch_size)\n",
    "#test_loader = torch.utils.data.DataLoader(test_data, shuffle=True, batch_size=batch_size)"
   ]
  },
  {
   "cell_type": "code",
   "execution_count": null,
   "id": "42ab8958",
   "metadata": {},
   "outputs": [],
   "source": [
    "if test or device == torch.device('cpu'):\n",
    "    image_model = models.vgg11(pretrained=True).to(device)\n",
    "else:\n",
    "    image_model = models.vgg16(pretrained=True).to(device)\n",
    "    \n",
    "#image_model = TenNet_Image().to(device)\n",
    "tag_model = TenNet.TenNet_Tag(train_data.get_tag_list()).to(device)\n",
    "\n",
    "optim = torch.optim.Adam([{'params' : image_model.parameters()}, {'params' : tag_model.parameters()}], lr=0.0001)\n",
    "triplet_loss = TripletLossFunc(Margin_Distance)\n",
    "\n",
    "n_epochs = N_Epochs\n",
    "Lambda = 0.01\n",
    "min_valid_loss = -1\n",
    "ten_res = []"
   ]
  },
  {
   "cell_type": "code",
   "execution_count": null,
   "id": "e267b4c9",
   "metadata": {},
   "outputs": [],
   "source": [
    "if getTenNetFromFile:\n",
    "    TenNet.getTenModel(tag_model, image_model, name = \"SavedModelState/IT_model.ckpt\")\n",
    "else:\n",
    "\n",
    "    pbar = tqdm(range(n_epochs))\n",
    "\n",
    "    for e in pbar:\n",
    "        \n",
    "        loss_dis_train =  TenNet.train(image_model, tag_model, train_loader, triplet_loss, Lambda, optim)\n",
    "        loss_dis_valid = TenNet.evalue(image_model, tag_model, valid_loader, triplet_loss, Lambda, optim, e, min_valid_loss, True) \n",
    "    \n",
    "        print(f\"epoch:{e}:\")\n",
    "        TenNet.output_loss_dis(f\" 1-train dataset train model\", loss_dis_train) \n",
    "        TenNet.output_loss_dis(f\" 2-valid dataset evalue model\", loss_dis_valid)\n",
    "        min_valid_loss = loss_dis_valid[5]\n",
    "  \n",
    "        ten_res.append([loss_dis_train,loss_dis_valid])\n",
    "        \n",
    "        if (test or device == torch.device('cpu')) and e == 3:\n",
    "            break\n",
    "        "
   ]
  },
  {
   "cell_type": "code",
   "execution_count": null,
   "id": "caf7ca16",
   "metadata": {},
   "outputs": [],
   "source": [
    "res = ten_res\n",
    "TenNet.printLossLog(res, n_epochs)\n",
    "TenNet.printLossProgressPlot(res, n_epochs)\n",
    "TenNet.printDistanceProgressPlot(res, n_epochs, train=True)\n",
    "TenNet.printDistanceProgressPlot(res, n_epochs, train=False)"
   ]
  },
  {
   "cell_type": "code",
   "execution_count": null,
   "id": "86f2ba40",
   "metadata": {
    "scrolled": true
   },
   "outputs": [],
   "source": [
    "for (x_images,y_tags) in train_loader:\n",
    "    y_tags = y_tags.to(device)\n",
    "    x_images = x_images.to(device)\n",
    "    break"
   ]
  },
  {
   "cell_type": "code",
   "execution_count": null,
   "id": "f67d6f9a",
   "metadata": {},
   "outputs": [],
   "source": [
    "batch_loss, output = P.compute_loss(x_images, y_tags, image_model, predict_model, loss_funk)\n",
    "print(batch_loss)\n",
    "loss = torch.nn.MSELoss()\n",
    "input = torch.randn(3, 5, requires_grad=True)\n",
    "target = torch.randn(3, 5)\n",
    "output = loss(input, target)\n",
    "print(output)\n",
    "print(torch.mean(output))batch_loss, output = P.compute_loss(x_images, y_tags, image_model, predict_model, loss_funk)\n",
    "print(batch_loss)"
   ]
  },
  {
   "cell_type": "code",
   "execution_count": null,
   "id": "18ceea6b",
   "metadata": {},
   "outputs": [],
   "source": [
    "loss_funk = torch.nn.MSELoss(reduce=False, size_average=False)\n",
    "#loss_funk = F.pairwise_distance\n",
    "\n",
    "n_epochs = N_Epochs_Decoder\n",
    "threshold = 0.5"
   ]
  },
  {
   "cell_type": "code",
   "execution_count": null,
   "id": "7c0bef5f",
   "metadata": {},
   "outputs": [],
   "source": [
    "predict_model = P.TagDecoder(train_data.get_tag_num()).to(device)\n",
    "optim = torch.optim.Adam(predict_model.parameters(), lr=0.001)\n",
    "max_accuracy = -1\n",
    "predict_res = []\n",
    "\n",
    "if getDecoderFromFile:\n",
    "    P.getDecoderModel(predict_model)\n",
    "else:\n",
    "    pbar = tqdm(range(n_epochs))\n",
    "\n",
    "    for e in pbar:\n",
    "    \n",
    "        loss_num_train = P.train(predict_model, tag_model, image_model, train_loader, loss_funk, optim, threshold, mod=P.LossModel.PredictModel)\n",
    "        P.output_loss_num(f\"epoch:{e}: 1-train dataset with train model\", loss_num_train)\n",
    "        \n",
    "        loss_num_valid = P.predict(predict_model, tag_model, image_model, valid_loader, loss_funk, optim, threshold, True, max_accuracy, e)   \n",
    "        P.output_loss_num(f\"epoch:{e}: 2-valid dataset with evalue model\", loss_num_valid)\n",
    "        max_accuracy = loss_num_valid[5]\n",
    "    \n",
    "        predict_res.append([loss_num_train,loss_num_valid])"
   ]
  },
  {
   "cell_type": "code",
   "execution_count": null,
   "id": "c2bda6fd",
   "metadata": {},
   "outputs": [],
   "source": [
    "res = predict_res\n",
    "P.printLossLog(res, n_epochs)\n",
    "P.printLossProgressPlot(res, n_epochs)\n",
    "P.printTagNumProgressPlot(res, n_epochs)\n",
    "P.printAccuracyProgressPlot(res, n_epochs)"
   ]
  },
  {
   "cell_type": "code",
   "execution_count": null,
   "id": "87742550",
   "metadata": {},
   "outputs": [],
   "source": [
    "decoder_model = P.TagDecoder(train_data.get_tag_num()).to(device)\n",
    "optim = torch.optim.Adam(decoder_model.parameters(), lr=0.001)\n",
    "max_accuracy = -1\n",
    "decoder_res = []\n",
    "if getDecoderFromFile:\n",
    "    P.getDecoderModel(decoder_model)\n",
    "else:\n",
    "    pbar = tqdm(range(n_epochs))\n",
    "\n",
    "    for e in pbar:\n",
    "    \n",
    "        loss_num_train = P.train(decoder_model, tag_model, image_model, train_loader, loss_funk, optim, threshold, mod=P.LossModel.DecoderModel)\n",
    "        P.output_loss_num(f\"epoch:{e}: 1-train dataset with train model\", loss_num_train)\n",
    "        \n",
    "        loss_num_valid = P.predict(decoder_model, tag_model, image_model, valid_loader, loss_funk, optim, threshold, True, max_accuracy, e)   \n",
    "        P.output_loss_num(f\"epoch:{e}: 2-valid dataset with evalue model\", loss_num_valid)\n",
    "        max_accuracy = loss_num_valid[5]\n",
    "    \n",
    "        decoder_res.append([loss_num_train,loss_num_valid])"
   ]
  },
  {
   "cell_type": "code",
   "execution_count": null,
   "id": "e0bd7cb5",
   "metadata": {},
   "outputs": [],
   "source": [
    "res = decoder_res\n",
    "P.printLossLog(res, n_epochs)\n",
    "P.printLossProgressPlot(res, n_epochs)\n",
    "P.printTagNumProgressPlot(res, n_epochs)\n",
    "P.printAccuracyProgressPlot(res, n_epochs)"
   ]
  },
  {
   "cell_type": "code",
   "execution_count": null,
   "id": "3e39537f",
   "metadata": {},
   "outputs": [],
   "source": []
  },
  {
   "cell_type": "code",
   "execution_count": null,
   "id": "650a6b6e",
   "metadata": {},
   "outputs": [],
   "source": []
  },
  {
   "cell_type": "code",
   "execution_count": null,
   "id": "34e12f30",
   "metadata": {
    "scrolled": true
   },
   "outputs": [],
   "source": []
  },
  {
   "cell_type": "code",
   "execution_count": null,
   "id": "4f995917",
   "metadata": {},
   "outputs": [],
   "source": []
  },
  {
   "cell_type": "code",
   "execution_count": 4,
   "id": "4d87de29",
   "metadata": {},
   "outputs": [
    {
     "data": {
      "text/plain": [
       "'9000'"
      ]
     },
     "execution_count": 4,
     "metadata": {},
     "output_type": "execute_result"
    }
   ],
   "source": [
    "str(Margin_Distance)"
   ]
  },
  {
   "cell_type": "code",
   "execution_count": null,
   "id": "aabfbc71",
   "metadata": {},
   "outputs": [],
   "source": []
  },
  {
   "cell_type": "code",
   "execution_count": null,
   "id": "2f62ca5d",
   "metadata": {},
   "outputs": [],
   "source": []
  },
  {
   "cell_type": "code",
   "execution_count": null,
   "id": "d0988084",
   "metadata": {},
   "outputs": [],
   "source": []
  },
  {
   "cell_type": "code",
   "execution_count": null,
   "id": "4a3291fb",
   "metadata": {},
   "outputs": [],
   "source": [
    "  \n",
    "        '''\n",
    "        print(f\"epoch:{e}:\")\n",
    "        print(\"1-7 use the same weights, since just 1 updates the weights.\\n\")\n",
    "        loss_dis_valid = TenNet.evalue(image_model, tag_model, valid_loader, triplet_loss, Lambda, optim, e, min_valid_loss, True)   \n",
    "        TenNet.output_loss_dis(f\" 2-valid dataset with evalue model\", loss_dis_valid)\n",
    "        min_valid_loss = loss_dis_valid[5]\n",
    "        \n",
    "        loss_dis_train = TenNet.evalue(image_model, tag_model, train_loader, triplet_loss, Lambda, optim, e, min_valid_loss, True)   \n",
    "        TenNet.output_loss_dis(f\" 3-train dataset with evalue model\", loss_dis_train)\n",
    "        \n",
    "        print(\"2-3 use the same way to evalue the model (both eval() and no_grad()), but different data sets.\\n\")\n",
    "        \n",
    "        loss_dis_train = TenNet.evalue2(image_model, tag_model, train_loader, triplet_loss, Lambda, optim)   \n",
    "        TenNet.output_loss_dis(f\" 4-train dataset with evalue model, just evalue model\", loss_dis_train)\n",
    "        \n",
    "        loss_dis_train = TenNet.evalue3(image_model, tag_model, train_loader, triplet_loss, Lambda, optim)   \n",
    "        TenNet.output_loss_dis(f\" 5-train dataset with evalue model, just no gradient\", loss_dis_train)\n",
    "        \n",
    "        print(\"4-5 use the same data set, but different ways to train the model.One uses eval(), one uses no_grad().\\n\")\n",
    "        \n",
    "        loss_dis_train =  TenNet.train(image_model, tag_model, train_loader, triplet_loss, Lambda, optim, False)\n",
    "        TenNet.output_loss_dis(f\" 6-train dataset with train model, but doesn't updata\", loss_dis_train)\n",
    "        \n",
    "        loss_dis_train =  TenNet.train(image_model, tag_model, train_loader, triplet_loss, Lambda, optim, False)\n",
    "        TenNet.output_loss_dis(f\" 6-train dataset with train model, but doesn't updata\", loss_dis_train)\n",
    "        \n",
    "        loss_dis_train =  TenNet.train(image_model, tag_model, train_loader, triplet_loss, Lambda, optim)\n",
    "        TenNet.output_loss_dis(f\" 1-train dataset with train model\", loss_dis_train)\n",
    "        \n",
    "        print(\"6-6-1 use the same data set and way to train the model, but 6 doesn't updata the weight.\\n\")\n",
    "        '''"
   ]
  }
 ],
 "metadata": {
  "kernelspec": {
   "display_name": "Python 3 (ipykernel)",
   "language": "python",
   "name": "python3"
  },
  "language_info": {
   "codemirror_mode": {
    "name": "ipython",
    "version": 3
   },
   "file_extension": ".py",
   "mimetype": "text/x-python",
   "name": "python",
   "nbconvert_exporter": "python",
   "pygments_lexer": "ipython3",
   "version": "3.8.8"
  }
 },
 "nbformat": 4,
 "nbformat_minor": 5
}
