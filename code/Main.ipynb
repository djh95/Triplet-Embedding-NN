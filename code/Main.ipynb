{
 "cells": [
  {
   "cell_type": "code",
   "execution_count": 1,
   "id": "2c1a6efa",
   "metadata": {},
   "outputs": [
    {
     "name": "stderr",
     "output_type": "stream",
     "text": [
      "C:\\ProgramData\\Anaconda3\\lib\\site-packages\\gensim\\similarities\\__init__.py:15: UserWarning: The gensim.similarities.levenshtein submodule is disabled, because the optional Levenshtein package <https://pypi.org/project/python-Levenshtein/> is unavailable. Install Levenhstein (e.g. `pip install python-Levenshtein`) to suppress this warning.\n",
      "  warnings.warn(msg)\n"
     ]
    }
   ],
   "source": [
    "import torch\n",
    "import torch.nn.functional as F\n",
    "import torchvision.models as models\n",
    "from jupyterplot import ProgressPlot\n",
    "from tqdm.notebook import tqdm\n",
    "\n",
    "from Define import *\n",
    "import NUS_WIDE as nus\n",
    "import TenNet as TenNet\n",
    "import PredictionModel as P\n",
    "from TripletLossFunc import TripletLossFunc\n",
    "from Word2Vec import *"
   ]
  },
  {
   "cell_type": "code",
   "execution_count": 2,
   "id": "cfad4330",
   "metadata": {},
   "outputs": [],
   "source": [
    "getTenNetFromFile = False\n",
    "getDecoderFromFile = False\n",
    "test = False\n",
    "evalue = True\n",
    "#NUS81 NUS1k COCO2017\n",
    "dataSet = \"NUS81\""
   ]
  },
  {
   "cell_type": "code",
   "execution_count": 4,
   "id": "f2754758",
   "metadata": {},
   "outputs": [],
   "source": [
    "if test or device == torch.device('cpu'):\n",
    "    Number_Of_Images_Train = 100\n",
    "    Number_Of_Images_Valid = 100\n",
    "    N_Epochs = 1\n",
    "    N_Epochs_Decoder = 1\n",
    "\n",
    "#NUS_WIDE\n",
    "if dataSet == \"NUS81\": \n",
    "    train_data = nus.NUS_WIDE_Helper(nus.DataSetType.Train_81, number=Number_Of_Images_Train, min_tag_num=1)\n",
    "    valid_data = nus.NUS_WIDE_Helper(nus.DataSetType.Test_81,  number=Number_Of_Images_Valid, min_tag_num=1)\n",
    "    test_data = nus.NUS_WIDE_Helper(nus.DataSetType.Test_81, min_tag_num=2)\n",
    "elif dataSet == \"NUS1k\":\n",
    "    train_data = nus.NUS_WIDE_Helper(nus.DataSetType.Train_1k, Number_Of_Images_Train)\n",
    "    valid_data = nus.NUS_WIDE_Helper(nus.DataSetType.Test_1k,  Number_Of_Images_Valid)\n",
    "    test_data = nus.NUS_WIDE_Helper(nus.DataSetType.Test_1k, min_tag_num=2)\n",
    "elif dataSet == \"COCO2017\":\n",
    "    print(\"COCO\")\n",
    "\n",
    "if getTenNetFromFile:\n",
    "    train_loader = None\n",
    "    valid_loader = None\n",
    "else:\n",
    "    batch_size = BATCH_SIZE\n",
    "    train_loader = torch.utils.data.DataLoader(train_data, shuffle=True, drop_last=True, batch_size=batch_size)\n",
    "    valid_loader = torch.utils.data.DataLoader(valid_data, shuffle=True, drop_last=True, batch_size=batch_size)\n",
    "    #test_loader = torch.utils.data.DataLoader(test_data, shuffle=True, batch_size=batch_size)"
   ]
  },
  {
   "cell_type": "code",
   "execution_count": 5,
   "id": "42ab8958",
   "metadata": {},
   "outputs": [
    {
     "ename": "KeyError",
     "evalue": "\"Key '9' not present\"",
     "output_type": "error",
     "traceback": [
      "\u001b[1;31m---------------------------------------------------------------------------\u001b[0m",
      "\u001b[1;31mKeyError\u001b[0m                                  Traceback (most recent call last)",
      "\u001b[1;32m~\\AppData\\Local\\Temp/ipykernel_20904/568491501.py\u001b[0m in \u001b[0;36m<module>\u001b[1;34m\u001b[0m\n\u001b[0;32m      8\u001b[0m \u001b[1;31m#image_model = TenNet_Image().to(device)\u001b[0m\u001b[1;33m\u001b[0m\u001b[1;33m\u001b[0m\u001b[1;33m\u001b[0m\u001b[0m\n\u001b[0;32m      9\u001b[0m \u001b[1;33m\u001b[0m\u001b[0m\n\u001b[1;32m---> 10\u001b[1;33m \u001b[0mWord2Vec_wv\u001b[0m \u001b[1;33m=\u001b[0m \u001b[0mcompute_word_matrix\u001b[0m\u001b[1;33m(\u001b[0m\u001b[0mtrain_data\u001b[0m\u001b[1;33m.\u001b[0m\u001b[0mimage_tags\u001b[0m\u001b[1;33m)\u001b[0m\u001b[1;33m\u001b[0m\u001b[1;33m\u001b[0m\u001b[0m\n\u001b[0m\u001b[0;32m     11\u001b[0m \u001b[1;31m#tag_model = TenNet.TenNet_Tag_V(valid_data.get_tag_list(), in_channel=2, additional_matrix=Word2Vec_wv).to(device)\u001b[0m\u001b[1;33m\u001b[0m\u001b[1;33m\u001b[0m\u001b[1;33m\u001b[0m\u001b[0m\n\u001b[0;32m     12\u001b[0m \u001b[0mtag_model\u001b[0m \u001b[1;33m=\u001b[0m \u001b[0mTenNet\u001b[0m\u001b[1;33m.\u001b[0m\u001b[0mTenNet_Tag_V2\u001b[0m\u001b[1;33m(\u001b[0m\u001b[0mvalid_data\u001b[0m\u001b[1;33m.\u001b[0m\u001b[0mget_tag_list\u001b[0m\u001b[1;33m(\u001b[0m\u001b[1;33m)\u001b[0m\u001b[1;33m,\u001b[0m \u001b[0min_channel\u001b[0m\u001b[1;33m=\u001b[0m\u001b[1;36m2\u001b[0m\u001b[1;33m,\u001b[0m \u001b[0madditional_matrix\u001b[0m\u001b[1;33m=\u001b[0m\u001b[0mWord2Vec_wv\u001b[0m\u001b[1;33m)\u001b[0m\u001b[1;33m.\u001b[0m\u001b[0mto\u001b[0m\u001b[1;33m(\u001b[0m\u001b[0mdevice\u001b[0m\u001b[1;33m)\u001b[0m\u001b[1;33m\u001b[0m\u001b[1;33m\u001b[0m\u001b[0m\n",
      "\u001b[1;32m~\\code\\python\\TENN\\Triplet-Embedding-NN\\code\\Word2Vec.py\u001b[0m in \u001b[0;36mcompute_word_matrix\u001b[1;34m(tags_list)\u001b[0m\n\u001b[0;32m     22\u001b[0m     \u001b[0mres\u001b[0m \u001b[1;33m=\u001b[0m \u001b[1;33m[\u001b[0m\u001b[1;33m]\u001b[0m\u001b[1;33m\u001b[0m\u001b[1;33m\u001b[0m\u001b[0m\n\u001b[0;32m     23\u001b[0m     \u001b[1;32mfor\u001b[0m \u001b[0mi\u001b[0m \u001b[1;32min\u001b[0m \u001b[0mrange\u001b[0m\u001b[1;33m(\u001b[0m\u001b[0mlen\u001b[0m\u001b[1;33m(\u001b[0m\u001b[0mmodel\u001b[0m\u001b[1;33m.\u001b[0m\u001b[0mwv\u001b[0m\u001b[1;33m)\u001b[0m\u001b[1;33m)\u001b[0m\u001b[1;33m:\u001b[0m\u001b[1;33m\u001b[0m\u001b[1;33m\u001b[0m\u001b[0m\n\u001b[1;32m---> 24\u001b[1;33m         \u001b[0mres\u001b[0m\u001b[1;33m.\u001b[0m\u001b[0mappend\u001b[0m\u001b[1;33m(\u001b[0m\u001b[0mmodel\u001b[0m\u001b[1;33m.\u001b[0m\u001b[0mwv\u001b[0m\u001b[1;33m[\u001b[0m\u001b[0mstr\u001b[0m\u001b[1;33m(\u001b[0m\u001b[0mi\u001b[0m\u001b[1;33m)\u001b[0m\u001b[1;33m]\u001b[0m\u001b[1;33m.\u001b[0m\u001b[0mtolist\u001b[0m\u001b[1;33m(\u001b[0m\u001b[1;33m)\u001b[0m\u001b[1;33m)\u001b[0m\u001b[1;33m\u001b[0m\u001b[1;33m\u001b[0m\u001b[0m\n\u001b[0m\u001b[0;32m     25\u001b[0m \u001b[1;33m\u001b[0m\u001b[0m\n\u001b[0;32m     26\u001b[0m     \u001b[1;32mreturn\u001b[0m \u001b[0mres\u001b[0m\u001b[1;33m\u001b[0m\u001b[1;33m\u001b[0m\u001b[0m\n",
      "\u001b[1;32mC:\\ProgramData\\Anaconda3\\lib\\site-packages\\gensim\\models\\keyedvectors.py\u001b[0m in \u001b[0;36m__getitem__\u001b[1;34m(self, key_or_keys)\u001b[0m\n\u001b[0;32m    377\u001b[0m         \"\"\"\n\u001b[0;32m    378\u001b[0m         \u001b[1;32mif\u001b[0m \u001b[0misinstance\u001b[0m\u001b[1;33m(\u001b[0m\u001b[0mkey_or_keys\u001b[0m\u001b[1;33m,\u001b[0m \u001b[0mKEY_TYPES\u001b[0m\u001b[1;33m)\u001b[0m\u001b[1;33m:\u001b[0m\u001b[1;33m\u001b[0m\u001b[1;33m\u001b[0m\u001b[0m\n\u001b[1;32m--> 379\u001b[1;33m             \u001b[1;32mreturn\u001b[0m \u001b[0mself\u001b[0m\u001b[1;33m.\u001b[0m\u001b[0mget_vector\u001b[0m\u001b[1;33m(\u001b[0m\u001b[0mkey_or_keys\u001b[0m\u001b[1;33m)\u001b[0m\u001b[1;33m\u001b[0m\u001b[1;33m\u001b[0m\u001b[0m\n\u001b[0m\u001b[0;32m    380\u001b[0m \u001b[1;33m\u001b[0m\u001b[0m\n\u001b[0;32m    381\u001b[0m         \u001b[1;32mreturn\u001b[0m \u001b[0mvstack\u001b[0m\u001b[1;33m(\u001b[0m\u001b[1;33m[\u001b[0m\u001b[0mself\u001b[0m\u001b[1;33m.\u001b[0m\u001b[0mget_vector\u001b[0m\u001b[1;33m(\u001b[0m\u001b[0mkey\u001b[0m\u001b[1;33m)\u001b[0m \u001b[1;32mfor\u001b[0m \u001b[0mkey\u001b[0m \u001b[1;32min\u001b[0m \u001b[0mkey_or_keys\u001b[0m\u001b[1;33m]\u001b[0m\u001b[1;33m)\u001b[0m\u001b[1;33m\u001b[0m\u001b[1;33m\u001b[0m\u001b[0m\n",
      "\u001b[1;32mC:\\ProgramData\\Anaconda3\\lib\\site-packages\\gensim\\models\\keyedvectors.py\u001b[0m in \u001b[0;36mget_vector\u001b[1;34m(self, key, norm)\u001b[0m\n\u001b[0;32m    420\u001b[0m \u001b[1;33m\u001b[0m\u001b[0m\n\u001b[0;32m    421\u001b[0m         \"\"\"\n\u001b[1;32m--> 422\u001b[1;33m         \u001b[0mindex\u001b[0m \u001b[1;33m=\u001b[0m \u001b[0mself\u001b[0m\u001b[1;33m.\u001b[0m\u001b[0mget_index\u001b[0m\u001b[1;33m(\u001b[0m\u001b[0mkey\u001b[0m\u001b[1;33m)\u001b[0m\u001b[1;33m\u001b[0m\u001b[1;33m\u001b[0m\u001b[0m\n\u001b[0m\u001b[0;32m    423\u001b[0m         \u001b[1;32mif\u001b[0m \u001b[0mnorm\u001b[0m\u001b[1;33m:\u001b[0m\u001b[1;33m\u001b[0m\u001b[1;33m\u001b[0m\u001b[0m\n\u001b[0;32m    424\u001b[0m             \u001b[0mself\u001b[0m\u001b[1;33m.\u001b[0m\u001b[0mfill_norms\u001b[0m\u001b[1;33m(\u001b[0m\u001b[1;33m)\u001b[0m\u001b[1;33m\u001b[0m\u001b[1;33m\u001b[0m\u001b[0m\n",
      "\u001b[1;32mC:\\ProgramData\\Anaconda3\\lib\\site-packages\\gensim\\models\\keyedvectors.py\u001b[0m in \u001b[0;36mget_index\u001b[1;34m(self, key, default)\u001b[0m\n\u001b[0;32m    394\u001b[0m             \u001b[1;32mreturn\u001b[0m \u001b[0mdefault\u001b[0m\u001b[1;33m\u001b[0m\u001b[1;33m\u001b[0m\u001b[0m\n\u001b[0;32m    395\u001b[0m         \u001b[1;32melse\u001b[0m\u001b[1;33m:\u001b[0m\u001b[1;33m\u001b[0m\u001b[1;33m\u001b[0m\u001b[0m\n\u001b[1;32m--> 396\u001b[1;33m             \u001b[1;32mraise\u001b[0m \u001b[0mKeyError\u001b[0m\u001b[1;33m(\u001b[0m\u001b[1;34mf\"Key '{key}' not present\"\u001b[0m\u001b[1;33m)\u001b[0m\u001b[1;33m\u001b[0m\u001b[1;33m\u001b[0m\u001b[0m\n\u001b[0m\u001b[0;32m    397\u001b[0m \u001b[1;33m\u001b[0m\u001b[0m\n\u001b[0;32m    398\u001b[0m     \u001b[1;32mdef\u001b[0m \u001b[0mget_vector\u001b[0m\u001b[1;33m(\u001b[0m\u001b[0mself\u001b[0m\u001b[1;33m,\u001b[0m \u001b[0mkey\u001b[0m\u001b[1;33m,\u001b[0m \u001b[0mnorm\u001b[0m\u001b[1;33m=\u001b[0m\u001b[1;32mFalse\u001b[0m\u001b[1;33m)\u001b[0m\u001b[1;33m:\u001b[0m\u001b[1;33m\u001b[0m\u001b[1;33m\u001b[0m\u001b[0m\n",
      "\u001b[1;31mKeyError\u001b[0m: \"Key '9' not present\""
     ]
    }
   ],
   "source": [
    "n_epochs = N_Epochs\n",
    "Lambda = 0.005\n",
    "\n",
    "if test or device == torch.device('cpu'):\n",
    "    image_model = models.vgg11(pretrained=True).to(device)\n",
    "else:\n",
    "    image_model = models.vgg16(pretrained=True).to(device) \n",
    "#image_model = TenNet_Image().to(device)\n",
    "\n",
    "Word2Vec_wv = compute_word_matrix(train_data.image_tags)\n",
    "#tag_model = TenNet.TenNet_Tag_V(valid_data.get_tag_list(), in_channel=2, additional_matrix=Word2Vec_wv).to(device)\n",
    "tag_model = TenNet.TenNet_Tag_V2(valid_data.get_tag_list(), in_channel=2, additional_matrix=Word2Vec_wv).to(device)\n",
    "\n",
    "triplet_loss = TripletLossFunc(Margin_Distance)\n",
    "#triplet_loss = TripletLossFunc(Margin_Distance, hybrid=True, beta=0.05, t1=0, t2=0.005 * Single_Distance * Feature_Dimensions)\n",
    "\n",
    "name = \"../SavedModelState/IT_model_\" + str(Margin_Distance) +\".ckpt\"\n",
    "ten_res = TenNet.run(image_model,tag_model,train_loader,valid_loader,triplet_loss,Lambda,n_epochs,test,getTenNetFromFile,name)"
   ]
  },
  {
   "cell_type": "code",
   "execution_count": null,
   "id": "caf7ca16",
   "metadata": {},
   "outputs": [],
   "source": [
    "if not getTenNetFromFile:\n",
    "    res = ten_res\n",
    "    TenNet.printLossProgressPlot(res, n_epochs)\n",
    "    TenNet.printDistanceProgressPlot(res, n_epochs, train=True)\n",
    "    TenNet.printDistanceProgressPlot(res, n_epochs, train=False)\n",
    "else:\n",
    "    TenNet.test(image_model, tag_model, valid_loader, triplet_loss, Lambda)\n",
    "\n",
    "TenNet.evalue(train_data, image_model, tag_model, k=3)\n",
    "TenNet.evalue(valid_data, image_model, tag_model, k=3)\n",
    "TenNet.evalue(test_data, image_model, tag_model, k=3)"
   ]
  },
  {
   "cell_type": "code",
   "execution_count": null,
   "id": "9ce9ae32",
   "metadata": {},
   "outputs": [],
   "source": [
    "###########################################\n",
    "############################################\n",
    "###########################################\n",
    "##########################################\n",
    "#######################################\n",
    "###########################################"
   ]
  },
  {
   "cell_type": "code",
   "execution_count": null,
   "id": "1b0a3697",
   "metadata": {},
   "outputs": [],
   "source": [
    "def download_images():\n",
    "    with open(Image_URLs_Path,'r') as f:\n",
    "        data = f.readline()\n",
    "        data = data.split()\n",
    "        \n",
    "def process_data(data):\n",
    "    Photo_file = data[0]\n",
    "    Photo_id = data[1]\n",
    "    url_Large = data[2]\n",
    "    url_Middle = data[3]\n",
    "    url_Small = data[4]\n",
    "    url_Original = data[5]\n",
    "    \n",
    "def process_file(file):\n",
    "    \n",
    "    return path\n",
    "    \n",
    "    "
   ]
  },
  {
   "cell_type": "code",
   "execution_count": 8,
   "id": "d5779d28",
   "metadata": {},
   "outputs": [],
   "source": [
    "a = torch.randn((81,256))\n",
    "tag_model = TenNet.TenNet_Tag_V2(valid_data.get_tag_list(), in_channel=2, additional_matrix=a).to(device)\n",
    "tag_model"
   ]
  },
  {
   "cell_type": "code",
   "execution_count": 1,
   "id": "27346051",
   "metadata": {},
   "outputs": [
    {
     "ename": "NameError",
     "evalue": "name 'torch' is not defined",
     "output_type": "error",
     "traceback": [
      "\u001b[1;31m---------------------------------------------------------------------------\u001b[0m",
      "\u001b[1;31mNameError\u001b[0m                                 Traceback (most recent call last)",
      "\u001b[1;32m~\\AppData\\Local\\Temp/ipykernel_20716/2230906601.py\u001b[0m in \u001b[0;36m<module>\u001b[1;34m\u001b[0m\n\u001b[1;32m----> 1\u001b[1;33m \u001b[0mloss_funk\u001b[0m \u001b[1;33m=\u001b[0m \u001b[0mtorch\u001b[0m\u001b[1;33m.\u001b[0m\u001b[0mnn\u001b[0m\u001b[1;33m.\u001b[0m\u001b[0mMSELoss\u001b[0m\u001b[1;33m(\u001b[0m\u001b[0mreduce\u001b[0m\u001b[1;33m=\u001b[0m\u001b[1;32mFalse\u001b[0m\u001b[1;33m,\u001b[0m \u001b[0msize_average\u001b[0m\u001b[1;33m=\u001b[0m\u001b[1;32mFalse\u001b[0m\u001b[1;33m)\u001b[0m\u001b[1;33m\u001b[0m\u001b[1;33m\u001b[0m\u001b[0m\n\u001b[0m\u001b[0;32m      2\u001b[0m \u001b[1;31m#loss_funk = F.pairwise_distance\u001b[0m\u001b[1;33m\u001b[0m\u001b[1;33m\u001b[0m\u001b[1;33m\u001b[0m\u001b[0m\n\u001b[0;32m      3\u001b[0m \u001b[0mn_epochs\u001b[0m \u001b[1;33m=\u001b[0m \u001b[1;36m60\u001b[0m\u001b[1;33m\u001b[0m\u001b[1;33m\u001b[0m\u001b[0m\n\u001b[0;32m      4\u001b[0m \u001b[0mthreshold\u001b[0m \u001b[1;33m=\u001b[0m \u001b[1;36m0.5\u001b[0m\u001b[1;33m\u001b[0m\u001b[1;33m\u001b[0m\u001b[0m\n\u001b[0;32m      5\u001b[0m \u001b[1;33m\u001b[0m\u001b[0m\n",
      "\u001b[1;31mNameError\u001b[0m: name 'torch' is not defined"
     ]
    }
   ],
   "source": [
    "loss_funk = torch.nn.MSELoss(reduce=False, size_average=False)\n",
    "#loss_funk = F.pairwise_distance\n",
    "n_epochs = 60 \n",
    "threshold = 0.5\n",
    "\n",
    "hybrid_model = P.TagDecoder(train_data.get_tag_num()).to(device)\n",
    "mod = P.LossModel.HybridModel2\n",
    "hybrid_res = P.run(hybrid_model,mod,tag_model,image_model,train_loader,valid_loader,loss_funk,threshold,n_epochs,test,getDecoderFromFile)"
   ]
  },
  {
   "cell_type": "code",
   "execution_count": null,
   "id": "bf110e10",
   "metadata": {},
   "outputs": [],
   "source": []
  },
  {
   "cell_type": "code",
   "execution_count": null,
   "id": "c2e090f0",
   "metadata": {},
   "outputs": [],
   "source": [
    "if not getDecoderFromFile:\n",
    "    res = hybrid_res\n",
    "    P.printLossProgressPlot(res, n_epochs)\n",
    "    P.printTagNumProgressPlot(res, n_epochs)\n",
    "    P.printAccuracyProgressPlot(res, n_epochs)"
   ]
  },
  {
   "cell_type": "code",
   "execution_count": null,
   "id": "e0bd7cb5",
   "metadata": {},
   "outputs": [],
   "source": [
    "predict_model = P.TagDecoder(train_data.get_tag_num()).to(device)\n",
    "mod = P.LossModel.PredictModel\n",
    "predict_res =P.run(predict_model,mod,tag_model,image_model,train_loader,valid_loader,loss_funk,threshold,n_epochs,test,getDecoderFromFile)"
   ]
  },
  {
   "cell_type": "code",
   "execution_count": null,
   "id": "3e39537f",
   "metadata": {},
   "outputs": [],
   "source": [
    "res = predict_res\n",
    "#P.printLossLog(res, n_epochs)\n",
    "P.printLossProgressPlot(res, n_epochs)\n",
    "P.printTagNumProgressPlot(res, n_epochs)\n",
    "P.printAccuracyProgressPlot(res, n_epochs)"
   ]
  },
  {
   "cell_type": "code",
   "execution_count": null,
   "id": "650a6b6e",
   "metadata": {},
   "outputs": [],
   "source": [
    "decoder_model = P.TagDecoder(train_data.get_tag_num()).to(device)\n",
    "mod = P.LossModel.DecoderModel\n",
    "decoder_res =P.run(decoder_model,mod,tag_model,image_model,train_loader,valid_loader,loss_funk,threshold,n_epochs,test,getDecoderFromFile)"
   ]
  },
  {
   "cell_type": "code",
   "execution_count": null,
   "id": "34e12f30",
   "metadata": {
    "scrolled": true
   },
   "outputs": [],
   "source": [
    "res = decoder_res\n",
    "#P.printLossLog(res, n_epochs)\n",
    "P.printLossProgressPlot(res, n_epochs)\n",
    "P.printTagNumProgressPlot(res, n_epochs)\n",
    "P.printAccuracyProgressPlot(res, n_epochs)"
   ]
  }
 ],
 "metadata": {
  "interpreter": {
   "hash": "b3ba2566441a7c06988d0923437866b63cedc61552a5af99d1f4fb67d367b25f"
  },
  "kernelspec": {
   "display_name": "Python 3 (ipykernel)",
   "language": "python",
   "name": "python3"
  },
  "language_info": {
   "codemirror_mode": {
    "name": "ipython",
    "version": 3
   },
   "file_extension": ".py",
   "mimetype": "text/x-python",
   "name": "python",
   "nbconvert_exporter": "python",
   "pygments_lexer": "ipython3",
   "version": "3.8.8"
  }
 },
 "nbformat": 4,
 "nbformat_minor": 5
}
